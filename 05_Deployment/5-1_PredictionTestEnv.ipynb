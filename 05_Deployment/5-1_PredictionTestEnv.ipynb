{
 "cells": [
  {
   "cell_type": "markdown",
   "metadata": {},
   "source": [
    "## Manual test of deployment"
   ]
  },
  {
   "cell_type": "code",
   "execution_count": 29,
   "metadata": {},
   "outputs": [],
   "source": [
    "import sys\n",
    "sys.path.append('../')\n",
    "import pandas as pd\n",
    "from lib.prediction import Predictor\n",
    "from lib.gmm import GMMClassifier\n",
    "\n",
    "data_path = '../01_Data/'\n",
    "file_name_cleaned_data = '3-1_psp-data_cleaned.csv'\n",
    "mdl_name_class = '4-3-1_psp-class-model.pkl'\n",
    "mdl_name_regr = '4-3-1_psp-regr-model.pkl'\n",
    "\n",
    "file_path_cleaned_data = data_path + file_name_cleaned_data\n",
    "file_path_mdl_class = data_path + mdl_name_class\n",
    "file_path_mdl_regr = data_path + mdl_name_regr\n",
    "\n",
    "request = [232.0, 0, 15, 'Master'] "
   ]
  },
  {
   "cell_type": "code",
   "execution_count": 30,
   "metadata": {},
   "outputs": [
    {
     "name": "stdout",
     "output_type": "stream",
     "text": [
      "Predicted PSP: PSP_Moneycard\n"
     ]
    }
   ],
   "source": [
    "pred = Predictor()\n",
    "pred.load_models(file_path_mdl_class, file_path_mdl_regr, file_path_cleaned_data)\n",
    "\n",
    "res_class = pred.predict_top_n_success(request)\n",
    "res_regr = pred.predict_top_n_fee()\n",
    "\n",
    "print(\"Predicted PSP:\", pred.get_predicted_psp())"
   ]
  },
  {
   "cell_type": "code",
   "execution_count": 31,
   "metadata": {},
   "outputs": [
    {
     "data": {
      "text/html": [
       "<div>\n",
       "<style scoped>\n",
       "    .dataframe tbody tr th:only-of-type {\n",
       "        vertical-align: middle;\n",
       "    }\n",
       "\n",
       "    .dataframe tbody tr th {\n",
       "        vertical-align: top;\n",
       "    }\n",
       "\n",
       "    .dataframe thead th {\n",
       "        text-align: right;\n",
       "    }\n",
       "</style>\n",
       "<table border=\"1\" class=\"dataframe\">\n",
       "  <thead>\n",
       "    <tr style=\"text-align: right;\">\n",
       "      <th></th>\n",
       "      <th>amount_sc</th>\n",
       "      <th>3D_secured</th>\n",
       "      <th>transaction_hour_sc</th>\n",
       "      <th>card_Diners</th>\n",
       "      <th>card_Master</th>\n",
       "      <th>card_Visa</th>\n",
       "      <th>PSP_Goldcard</th>\n",
       "      <th>PSP_Moneycard</th>\n",
       "      <th>PSP_Simplecard</th>\n",
       "      <th>PSP_UK_Card</th>\n",
       "      <th>success_max</th>\n",
       "    </tr>\n",
       "  </thead>\n",
       "  <tbody>\n",
       "    <tr>\n",
       "      <th>0</th>\n",
       "      <td>0.362179</td>\n",
       "      <td>0</td>\n",
       "      <td>0.652174</td>\n",
       "      <td>0.0</td>\n",
       "      <td>1.0</td>\n",
       "      <td>0.0</td>\n",
       "      <td>1.0</td>\n",
       "      <td>0.0</td>\n",
       "      <td>0.0</td>\n",
       "      <td>0.0</td>\n",
       "      <td>0.516749</td>\n",
       "    </tr>\n",
       "    <tr>\n",
       "      <th>1</th>\n",
       "      <td>0.362179</td>\n",
       "      <td>0</td>\n",
       "      <td>0.652174</td>\n",
       "      <td>0.0</td>\n",
       "      <td>1.0</td>\n",
       "      <td>0.0</td>\n",
       "      <td>0.0</td>\n",
       "      <td>1.0</td>\n",
       "      <td>0.0</td>\n",
       "      <td>0.0</td>\n",
       "      <td>0.447407</td>\n",
       "    </tr>\n",
       "  </tbody>\n",
       "</table>\n",
       "</div>"
      ],
      "text/plain": [
       "   amount_sc  3D_secured  transaction_hour_sc  card_Diners  card_Master  \\\n",
       "0   0.362179           0             0.652174          0.0          1.0   \n",
       "1   0.362179           0             0.652174          0.0          1.0   \n",
       "\n",
       "   card_Visa  PSP_Goldcard  PSP_Moneycard  PSP_Simplecard  PSP_UK_Card  \\\n",
       "0        0.0           1.0            0.0             0.0          0.0   \n",
       "1        0.0           0.0            1.0             0.0          0.0   \n",
       "\n",
       "   success_max  \n",
       "0     0.516749  \n",
       "1     0.447407  "
      ]
     },
     "execution_count": 31,
     "metadata": {},
     "output_type": "execute_result"
    }
   ],
   "source": [
    "res_class"
   ]
  },
  {
   "cell_type": "code",
   "execution_count": 32,
   "metadata": {},
   "outputs": [
    {
     "data": {
      "text/html": [
       "<div>\n",
       "<style scoped>\n",
       "    .dataframe tbody tr th:only-of-type {\n",
       "        vertical-align: middle;\n",
       "    }\n",
       "\n",
       "    .dataframe tbody tr th {\n",
       "        vertical-align: top;\n",
       "    }\n",
       "\n",
       "    .dataframe thead th {\n",
       "        text-align: right;\n",
       "    }\n",
       "</style>\n",
       "<table border=\"1\" class=\"dataframe\">\n",
       "  <thead>\n",
       "    <tr style=\"text-align: right;\">\n",
       "      <th></th>\n",
       "      <th>PSP_UK_Card</th>\n",
       "      <th>PSP_Goldcard</th>\n",
       "      <th>PSP_Simplecard</th>\n",
       "      <th>PSP_Moneycard</th>\n",
       "      <th>success_max</th>\n",
       "      <th>card_Visa</th>\n",
       "      <th>fee</th>\n",
       "    </tr>\n",
       "  </thead>\n",
       "  <tbody>\n",
       "    <tr>\n",
       "      <th>1</th>\n",
       "      <td>0.0</td>\n",
       "      <td>0.0</td>\n",
       "      <td>0.0</td>\n",
       "      <td>1.0</td>\n",
       "      <td>0.447407</td>\n",
       "      <td>0.0</td>\n",
       "      <td>3.001425</td>\n",
       "    </tr>\n",
       "  </tbody>\n",
       "</table>\n",
       "</div>"
      ],
      "text/plain": [
       "   PSP_UK_Card  PSP_Goldcard  PSP_Simplecard  PSP_Moneycard  success_max  \\\n",
       "1          0.0           0.0             0.0            1.0     0.447407   \n",
       "\n",
       "   card_Visa       fee  \n",
       "1        0.0  3.001425  "
      ]
     },
     "execution_count": 32,
     "metadata": {},
     "output_type": "execute_result"
    }
   ],
   "source": [
    "res_regr"
   ]
  },
  {
   "cell_type": "markdown",
   "metadata": {},
   "source": [
    "## Test by Web-API\n",
    "!!! Run python PspPrediction.py from command line to start the web server !!!"
   ]
  },
  {
   "cell_type": "code",
   "execution_count": 34,
   "metadata": {},
   "outputs": [
    {
     "name": "stdout",
     "output_type": "stream",
     "text": [
      "{'psp': 'PSP_Moneycard'}\n"
     ]
    }
   ],
   "source": [
    "import requests\n",
    "\n",
    "url = 'http://127.0.0.1:5000/predict'\n",
    "payload = {\n",
    "    'input': [232.0, 0, 15, 'Master']\n",
    "}\n",
    "\n",
    "response = requests.post(url, json=payload)\n",
    "print(response.json())"
   ]
  }
 ],
 "metadata": {
  "kernelspec": {
   "display_name": "Python 3",
   "language": "python",
   "name": "python3"
  },
  "language_info": {
   "codemirror_mode": {
    "name": "ipython",
    "version": 3
   },
   "file_extension": ".py",
   "mimetype": "text/x-python",
   "name": "python",
   "nbconvert_exporter": "python",
   "pygments_lexer": "ipython3",
   "version": "3.12.3"
  }
 },
 "nbformat": 4,
 "nbformat_minor": 2
}
