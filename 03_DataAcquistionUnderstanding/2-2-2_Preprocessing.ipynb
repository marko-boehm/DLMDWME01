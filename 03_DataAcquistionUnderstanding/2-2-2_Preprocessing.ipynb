{
 "cells": [
  {
   "cell_type": "markdown",
   "metadata": {},
   "source": [
    "## Libraries and variables"
   ]
  },
  {
   "cell_type": "code",
   "execution_count": 20,
   "metadata": {},
   "outputs": [],
   "source": [
    "import pandas as pd\n",
    "from sklearn.preprocessing import OneHotEncoder\n",
    "from sklearn.preprocessing import MinMaxScaler\n",
    "\n",
    "data_path = '../01_Data/'\n",
    "file_name_cleaned_data = 'psp-data_cleaned.csv'\n",
    "file_path_cleaned_data = data_path + file_name_cleaned_data"
   ]
  },
  {
   "cell_type": "markdown",
   "metadata": {},
   "source": [
    "## Data load"
   ]
  },
  {
   "cell_type": "code",
   "execution_count": 21,
   "metadata": {},
   "outputs": [],
   "source": [
    "df = pd.read_csv(file_path_cleaned_data, index_col=0)\n",
    "df['tmsp'] = pd.to_datetime(df['tmsp'])"
   ]
  },
  {
   "cell_type": "markdown",
   "metadata": {},
   "source": [
    "## Preprocessing\n",
    "https://scikit-learn.org/stable/modules/preprocessing.html \\\n",
    "https://scikit-learn.org/stable/api/sklearn.preprocessing.html"
   ]
  },
  {
   "cell_type": "markdown",
   "metadata": {},
   "source": [
    "### Data enrichment"
   ]
  },
  {
   "cell_type": "code",
   "execution_count": 22,
   "metadata": {},
   "outputs": [],
   "source": [
    "# Add fee column\n",
    "def calculate_fee(row):\n",
    "    if row['PSP'] == 'Moneycard':\n",
    "        return 5.0 if row['success'] == 1 else 2.0\n",
    "    elif row['PSP'] == 'Goldcard':\n",
    "        return 10.0 if row['success'] == 1 else 5.0\n",
    "    elif row['PSP'] == 'UK_Card':\n",
    "        return 3.0 if row['success'] == 1 else 1.0\n",
    "    elif row['PSP'] == 'Simplecard':\n",
    "        return 1.0 if row['success'] == 1 else 0.5\n",
    "    else:\n",
    "        return 0\n",
    "    \n",
    "df['fee'] = df.apply(calculate_fee, axis=1)"
   ]
  },
  {
   "cell_type": "code",
   "execution_count": 23,
   "metadata": {},
   "outputs": [],
   "source": [
    "# Add transaction hour\n",
    "df['transaction_hour'] = df['tmsp'].dt.hour"
   ]
  },
  {
   "cell_type": "code",
   "execution_count": 24,
   "metadata": {},
   "outputs": [],
   "source": [
    "# Add purchase index\n",
    "# A purchase is defined as follows: previous transaction timestamp is <= 60 seconds and country, amount, card and 3D_secured are equal\n",
    "def assign_purchase(df):\n",
    "    purchases = []\n",
    "    purchase_num = 0\n",
    "    last_transaction_time = None\n",
    "    \n",
    "    for index, row in df.iterrows():\n",
    "        if last_transaction_time is None or \\\n",
    "            (row['tmsp'] - last_transaction_time).total_seconds() >= 60 or \\\n",
    "            (row['country'], row['amount'], row['card'], row['3D_secured']) != last_transaction:\n",
    "            \n",
    "            purchase_num += 1\n",
    "        \n",
    "        purchases.append(purchase_num)\n",
    "        last_transaction_time = row['tmsp']\n",
    "        last_transaction = (row['country'], row['amount'], row['card'], row['3D_secured'])\n",
    "    \n",
    "    return purchases\n",
    "\n",
    "\n",
    "df['purchase'] = assign_purchase(df)"
   ]
  },
  {
   "cell_type": "code",
   "execution_count": 25,
   "metadata": {},
   "outputs": [],
   "source": [
    "# Add amount buckets separated by 50 Euros\n",
    "df['amount_bucket'] = pd.cut(df['amount'], bins=range(0, max(df['amount'])+51, 50))"
   ]
  },
  {
   "cell_type": "markdown",
   "metadata": {},
   "source": [
    "### Feature encoding\n",
    "One-Hot-Encoding, Ordinal-Encoding, Target-Encoding"
   ]
  },
  {
   "cell_type": "code",
   "execution_count": 26,
   "metadata": {},
   "outputs": [],
   "source": [
    "# One-Hot-Encodig for colums 'card', 'PSP' and 'country'\n",
    "# Decision in favour of One-Hot-Encodign due to fewer categorical values and no order in the categorical values\n",
    "encoder = OneHotEncoder()\n",
    "\n",
    "encoded_data = encoder.fit_transform(df[['card', 'PSP', 'country']])\n",
    "encoded_df = pd.DataFrame(encoded_data.toarray(), columns=encoder.get_feature_names_out(['card', 'PSP', 'country']))\n",
    "\n",
    "df = pd.concat([df, encoded_df], axis=1)"
   ]
  },
  {
   "cell_type": "markdown",
   "metadata": {},
   "source": [
    "### Skalierung und Normalisierung\n",
    "- StandardScaler, MinMaxScaler, MaxAbsScaler, RobustScaler\n",
    "- Normalizer (L1, L2, Max-Norm)"
   ]
  },
  {
   "cell_type": "code",
   "execution_count": 27,
   "metadata": {},
   "outputs": [
    {
     "data": {
      "text/html": [
       "<div>\n",
       "<style scoped>\n",
       "    .dataframe tbody tr th:only-of-type {\n",
       "        vertical-align: middle;\n",
       "    }\n",
       "\n",
       "    .dataframe tbody tr th {\n",
       "        vertical-align: top;\n",
       "    }\n",
       "\n",
       "    .dataframe thead th {\n",
       "        text-align: right;\n",
       "    }\n",
       "</style>\n",
       "<table border=\"1\" class=\"dataframe\">\n",
       "  <thead>\n",
       "    <tr style=\"text-align: right;\">\n",
       "      <th></th>\n",
       "      <th>tmsp</th>\n",
       "      <th>country</th>\n",
       "      <th>amount</th>\n",
       "      <th>success</th>\n",
       "      <th>PSP</th>\n",
       "      <th>3D_secured</th>\n",
       "      <th>card</th>\n",
       "      <th>fee</th>\n",
       "      <th>transaction_hour</th>\n",
       "      <th>purchase</th>\n",
       "      <th>...</th>\n",
       "      <th>card_Visa</th>\n",
       "      <th>PSP_Goldcard</th>\n",
       "      <th>PSP_Moneycard</th>\n",
       "      <th>PSP_Simplecard</th>\n",
       "      <th>PSP_UK_Card</th>\n",
       "      <th>country_Austria</th>\n",
       "      <th>country_Germany</th>\n",
       "      <th>country_Switzerland</th>\n",
       "      <th>amount_sc</th>\n",
       "      <th>transaction_hour_sc</th>\n",
       "    </tr>\n",
       "  </thead>\n",
       "  <tbody>\n",
       "    <tr>\n",
       "      <th>0</th>\n",
       "      <td>2019-01-01 00:01:11</td>\n",
       "      <td>Germany</td>\n",
       "      <td>89</td>\n",
       "      <td>0</td>\n",
       "      <td>UK_Card</td>\n",
       "      <td>0</td>\n",
       "      <td>Visa</td>\n",
       "      <td>1.0</td>\n",
       "      <td>0</td>\n",
       "      <td>1</td>\n",
       "      <td>...</td>\n",
       "      <td>1.0</td>\n",
       "      <td>0.0</td>\n",
       "      <td>0.0</td>\n",
       "      <td>0.0</td>\n",
       "      <td>1.0</td>\n",
       "      <td>0.0</td>\n",
       "      <td>1.0</td>\n",
       "      <td>0.0</td>\n",
       "      <td>0.133013</td>\n",
       "      <td>0.0</td>\n",
       "    </tr>\n",
       "    <tr>\n",
       "      <th>1</th>\n",
       "      <td>2019-01-01 00:01:17</td>\n",
       "      <td>Germany</td>\n",
       "      <td>89</td>\n",
       "      <td>1</td>\n",
       "      <td>UK_Card</td>\n",
       "      <td>0</td>\n",
       "      <td>Visa</td>\n",
       "      <td>3.0</td>\n",
       "      <td>0</td>\n",
       "      <td>1</td>\n",
       "      <td>...</td>\n",
       "      <td>1.0</td>\n",
       "      <td>0.0</td>\n",
       "      <td>0.0</td>\n",
       "      <td>0.0</td>\n",
       "      <td>1.0</td>\n",
       "      <td>0.0</td>\n",
       "      <td>1.0</td>\n",
       "      <td>0.0</td>\n",
       "      <td>0.133013</td>\n",
       "      <td>0.0</td>\n",
       "    </tr>\n",
       "    <tr>\n",
       "      <th>2</th>\n",
       "      <td>2019-01-01 00:02:49</td>\n",
       "      <td>Germany</td>\n",
       "      <td>238</td>\n",
       "      <td>0</td>\n",
       "      <td>UK_Card</td>\n",
       "      <td>1</td>\n",
       "      <td>Diners</td>\n",
       "      <td>1.0</td>\n",
       "      <td>0</td>\n",
       "      <td>2</td>\n",
       "      <td>...</td>\n",
       "      <td>0.0</td>\n",
       "      <td>0.0</td>\n",
       "      <td>0.0</td>\n",
       "      <td>0.0</td>\n",
       "      <td>1.0</td>\n",
       "      <td>0.0</td>\n",
       "      <td>1.0</td>\n",
       "      <td>0.0</td>\n",
       "      <td>0.371795</td>\n",
       "      <td>0.0</td>\n",
       "    </tr>\n",
       "    <tr>\n",
       "      <th>3</th>\n",
       "      <td>2019-01-01 00:03:13</td>\n",
       "      <td>Germany</td>\n",
       "      <td>238</td>\n",
       "      <td>1</td>\n",
       "      <td>UK_Card</td>\n",
       "      <td>1</td>\n",
       "      <td>Diners</td>\n",
       "      <td>3.0</td>\n",
       "      <td>0</td>\n",
       "      <td>2</td>\n",
       "      <td>...</td>\n",
       "      <td>0.0</td>\n",
       "      <td>0.0</td>\n",
       "      <td>0.0</td>\n",
       "      <td>0.0</td>\n",
       "      <td>1.0</td>\n",
       "      <td>0.0</td>\n",
       "      <td>1.0</td>\n",
       "      <td>0.0</td>\n",
       "      <td>0.371795</td>\n",
       "      <td>0.0</td>\n",
       "    </tr>\n",
       "    <tr>\n",
       "      <th>4</th>\n",
       "      <td>2019-01-01 00:04:33</td>\n",
       "      <td>Austria</td>\n",
       "      <td>124</td>\n",
       "      <td>0</td>\n",
       "      <td>Simplecard</td>\n",
       "      <td>0</td>\n",
       "      <td>Diners</td>\n",
       "      <td>0.5</td>\n",
       "      <td>0</td>\n",
       "      <td>3</td>\n",
       "      <td>...</td>\n",
       "      <td>0.0</td>\n",
       "      <td>0.0</td>\n",
       "      <td>0.0</td>\n",
       "      <td>1.0</td>\n",
       "      <td>0.0</td>\n",
       "      <td>1.0</td>\n",
       "      <td>0.0</td>\n",
       "      <td>0.0</td>\n",
       "      <td>0.189103</td>\n",
       "      <td>0.0</td>\n",
       "    </tr>\n",
       "  </tbody>\n",
       "</table>\n",
       "<p>5 rows × 23 columns</p>\n",
       "</div>"
      ],
      "text/plain": [
       "                 tmsp  country  amount  success         PSP  3D_secured  \\\n",
       "0 2019-01-01 00:01:11  Germany      89        0     UK_Card           0   \n",
       "1 2019-01-01 00:01:17  Germany      89        1     UK_Card           0   \n",
       "2 2019-01-01 00:02:49  Germany     238        0     UK_Card           1   \n",
       "3 2019-01-01 00:03:13  Germany     238        1     UK_Card           1   \n",
       "4 2019-01-01 00:04:33  Austria     124        0  Simplecard           0   \n",
       "\n",
       "     card  fee  transaction_hour  purchase  ... card_Visa  PSP_Goldcard  \\\n",
       "0    Visa  1.0                 0         1  ...       1.0           0.0   \n",
       "1    Visa  3.0                 0         1  ...       1.0           0.0   \n",
       "2  Diners  1.0                 0         2  ...       0.0           0.0   \n",
       "3  Diners  3.0                 0         2  ...       0.0           0.0   \n",
       "4  Diners  0.5                 0         3  ...       0.0           0.0   \n",
       "\n",
       "   PSP_Moneycard  PSP_Simplecard  PSP_UK_Card  country_Austria  \\\n",
       "0            0.0             0.0          1.0              0.0   \n",
       "1            0.0             0.0          1.0              0.0   \n",
       "2            0.0             0.0          1.0              0.0   \n",
       "3            0.0             0.0          1.0              0.0   \n",
       "4            0.0             1.0          0.0              1.0   \n",
       "\n",
       "   country_Germany  country_Switzerland  amount_sc  transaction_hour_sc  \n",
       "0              1.0                  0.0   0.133013                  0.0  \n",
       "1              1.0                  0.0   0.133013                  0.0  \n",
       "2              1.0                  0.0   0.371795                  0.0  \n",
       "3              1.0                  0.0   0.371795                  0.0  \n",
       "4              0.0                  0.0   0.189103                  0.0  \n",
       "\n",
       "[5 rows x 23 columns]"
      ]
     },
     "execution_count": 27,
     "metadata": {},
     "output_type": "execute_result"
    }
   ],
   "source": [
    "min_max_scaler = MinMaxScaler()\n",
    "df[[\"amount_sc\", \"transaction_hour_sc\"]] = min_max_scaler.fit_transform(df[[\"amount\", \"transaction_hour\"]])\n",
    "df.head()"
   ]
  },
  {
   "cell_type": "markdown",
   "metadata": {},
   "source": [
    "## Save preprocessed data"
   ]
  },
  {
   "cell_type": "code",
   "execution_count": 28,
   "metadata": {},
   "outputs": [],
   "source": [
    "df.to_csv(data_path + 'psp-data_preprocessed.csv')"
   ]
  }
 ],
 "metadata": {
  "kernelspec": {
   "display_name": "Python 3",
   "language": "python",
   "name": "python3"
  },
  "language_info": {
   "codemirror_mode": {
    "name": "ipython",
    "version": 3
   },
   "file_extension": ".py",
   "mimetype": "text/x-python",
   "name": "python",
   "nbconvert_exporter": "python",
   "pygments_lexer": "ipython3",
   "version": "3.12.3"
  }
 },
 "nbformat": 4,
 "nbformat_minor": 2
}
