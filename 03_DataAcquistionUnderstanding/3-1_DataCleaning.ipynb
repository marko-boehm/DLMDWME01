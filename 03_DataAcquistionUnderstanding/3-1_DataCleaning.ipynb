{
 "cells": [
  {
   "cell_type": "markdown",
   "metadata": {},
   "source": [
    "## Libraries and variables"
   ]
  },
  {
   "cell_type": "code",
   "execution_count": 33,
   "metadata": {},
   "outputs": [],
   "source": [
    "import pandas as pd\n",
    "import matplotlib.pyplot as plt\n",
    "\n",
    "data_path = '../01_Data/'\n",
    "file_name = 'PSP_Jan_Feb_2019.xlsx'\n",
    "file_path = data_path + file_name"
   ]
  },
  {
   "cell_type": "markdown",
   "metadata": {},
   "source": [
    "## Data load"
   ]
  },
  {
   "cell_type": "code",
   "execution_count": 34,
   "metadata": {},
   "outputs": [],
   "source": [
    "df = pd.read_excel(file_path, index_col=0)"
   ]
  },
  {
   "cell_type": "markdown",
   "metadata": {},
   "source": [
    "## Data cleaning"
   ]
  },
  {
   "cell_type": "code",
   "execution_count": 35,
   "metadata": {},
   "outputs": [
    {
     "data": {
      "text/html": [
       "<div>\n",
       "<style scoped>\n",
       "    .dataframe tbody tr th:only-of-type {\n",
       "        vertical-align: middle;\n",
       "    }\n",
       "\n",
       "    .dataframe tbody tr th {\n",
       "        vertical-align: top;\n",
       "    }\n",
       "\n",
       "    .dataframe thead th {\n",
       "        text-align: right;\n",
       "    }\n",
       "</style>\n",
       "<table border=\"1\" class=\"dataframe\">\n",
       "  <thead>\n",
       "    <tr style=\"text-align: right;\">\n",
       "      <th></th>\n",
       "      <th>tmsp</th>\n",
       "      <th>country</th>\n",
       "      <th>amount</th>\n",
       "      <th>success</th>\n",
       "      <th>PSP</th>\n",
       "      <th>3D_secured</th>\n",
       "      <th>card</th>\n",
       "    </tr>\n",
       "  </thead>\n",
       "  <tbody>\n",
       "    <tr>\n",
       "      <th>0</th>\n",
       "      <td>2019-01-01 00:01:11</td>\n",
       "      <td>Germany</td>\n",
       "      <td>89</td>\n",
       "      <td>0</td>\n",
       "      <td>UK_Card</td>\n",
       "      <td>0</td>\n",
       "      <td>Visa</td>\n",
       "    </tr>\n",
       "    <tr>\n",
       "      <th>1</th>\n",
       "      <td>2019-01-01 00:01:17</td>\n",
       "      <td>Germany</td>\n",
       "      <td>89</td>\n",
       "      <td>1</td>\n",
       "      <td>UK_Card</td>\n",
       "      <td>0</td>\n",
       "      <td>Visa</td>\n",
       "    </tr>\n",
       "    <tr>\n",
       "      <th>2</th>\n",
       "      <td>2019-01-01 00:02:49</td>\n",
       "      <td>Germany</td>\n",
       "      <td>238</td>\n",
       "      <td>0</td>\n",
       "      <td>UK_Card</td>\n",
       "      <td>1</td>\n",
       "      <td>Diners</td>\n",
       "    </tr>\n",
       "    <tr>\n",
       "      <th>3</th>\n",
       "      <td>2019-01-01 00:03:13</td>\n",
       "      <td>Germany</td>\n",
       "      <td>238</td>\n",
       "      <td>1</td>\n",
       "      <td>UK_Card</td>\n",
       "      <td>1</td>\n",
       "      <td>Diners</td>\n",
       "    </tr>\n",
       "    <tr>\n",
       "      <th>4</th>\n",
       "      <td>2019-01-01 00:04:33</td>\n",
       "      <td>Austria</td>\n",
       "      <td>124</td>\n",
       "      <td>0</td>\n",
       "      <td>Simplecard</td>\n",
       "      <td>0</td>\n",
       "      <td>Diners</td>\n",
       "    </tr>\n",
       "    <tr>\n",
       "      <th>...</th>\n",
       "      <td>...</td>\n",
       "      <td>...</td>\n",
       "      <td>...</td>\n",
       "      <td>...</td>\n",
       "      <td>...</td>\n",
       "      <td>...</td>\n",
       "      <td>...</td>\n",
       "    </tr>\n",
       "    <tr>\n",
       "      <th>50405</th>\n",
       "      <td>2019-02-28 23:45:39</td>\n",
       "      <td>Switzerland</td>\n",
       "      <td>415</td>\n",
       "      <td>0</td>\n",
       "      <td>UK_Card</td>\n",
       "      <td>0</td>\n",
       "      <td>Visa</td>\n",
       "    </tr>\n",
       "    <tr>\n",
       "      <th>50406</th>\n",
       "      <td>2019-02-28 23:46:48</td>\n",
       "      <td>Austria</td>\n",
       "      <td>91</td>\n",
       "      <td>0</td>\n",
       "      <td>UK_Card</td>\n",
       "      <td>0</td>\n",
       "      <td>Master</td>\n",
       "    </tr>\n",
       "    <tr>\n",
       "      <th>50407</th>\n",
       "      <td>2019-02-28 23:47:04</td>\n",
       "      <td>Austria</td>\n",
       "      <td>91</td>\n",
       "      <td>0</td>\n",
       "      <td>UK_Card</td>\n",
       "      <td>0</td>\n",
       "      <td>Master</td>\n",
       "    </tr>\n",
       "    <tr>\n",
       "      <th>50408</th>\n",
       "      <td>2019-02-28 23:47:36</td>\n",
       "      <td>Austria</td>\n",
       "      <td>91</td>\n",
       "      <td>0</td>\n",
       "      <td>UK_Card</td>\n",
       "      <td>0</td>\n",
       "      <td>Master</td>\n",
       "    </tr>\n",
       "    <tr>\n",
       "      <th>50409</th>\n",
       "      <td>2019-02-28 23:48:19</td>\n",
       "      <td>Austria</td>\n",
       "      <td>91</td>\n",
       "      <td>1</td>\n",
       "      <td>Moneycard</td>\n",
       "      <td>0</td>\n",
       "      <td>Master</td>\n",
       "    </tr>\n",
       "  </tbody>\n",
       "</table>\n",
       "<p>50410 rows × 7 columns</p>\n",
       "</div>"
      ],
      "text/plain": [
       "                     tmsp      country  amount  success         PSP  \\\n",
       "0     2019-01-01 00:01:11      Germany      89        0     UK_Card   \n",
       "1     2019-01-01 00:01:17      Germany      89        1     UK_Card   \n",
       "2     2019-01-01 00:02:49      Germany     238        0     UK_Card   \n",
       "3     2019-01-01 00:03:13      Germany     238        1     UK_Card   \n",
       "4     2019-01-01 00:04:33      Austria     124        0  Simplecard   \n",
       "...                   ...          ...     ...      ...         ...   \n",
       "50405 2019-02-28 23:45:39  Switzerland     415        0     UK_Card   \n",
       "50406 2019-02-28 23:46:48      Austria      91        0     UK_Card   \n",
       "50407 2019-02-28 23:47:04      Austria      91        0     UK_Card   \n",
       "50408 2019-02-28 23:47:36      Austria      91        0     UK_Card   \n",
       "50409 2019-02-28 23:48:19      Austria      91        1   Moneycard   \n",
       "\n",
       "       3D_secured    card  \n",
       "0               0    Visa  \n",
       "1               0    Visa  \n",
       "2               1  Diners  \n",
       "3               1  Diners  \n",
       "4               0  Diners  \n",
       "...           ...     ...  \n",
       "50405           0    Visa  \n",
       "50406           0  Master  \n",
       "50407           0  Master  \n",
       "50408           0  Master  \n",
       "50409           0  Master  \n",
       "\n",
       "[50410 rows x 7 columns]"
      ]
     },
     "execution_count": 35,
     "metadata": {},
     "output_type": "execute_result"
    }
   ],
   "source": [
    "# How many rows and columns and first look\n",
    "# Result: 50410 rows and 7 columns\n",
    "df"
   ]
  },
  {
   "cell_type": "markdown",
   "metadata": {},
   "source": [
    "### Missing values\n",
    "Possibilities:\n",
    "- Deletion of missing values\n",
    "- Imputation by statistical methods (e.g. average, median, modus)\n",
    "- Forward and backward filling for time series data"
   ]
  },
  {
   "cell_type": "code",
   "execution_count": 36,
   "metadata": {},
   "outputs": [
    {
     "name": "stdout",
     "output_type": "stream",
     "text": [
      "tmsp          0\n",
      "country       0\n",
      "amount        0\n",
      "success       0\n",
      "PSP           0\n",
      "3D_secured    0\n",
      "card          0\n",
      "dtype: int64\n"
     ]
    }
   ],
   "source": [
    "# Check for missing values\n",
    "# Result: No missing values in columns\n",
    "print(df.isna().sum())"
   ]
  },
  {
   "cell_type": "markdown",
   "metadata": {},
   "source": [
    "### Outlier detection\n",
    "**Identification** of outliers by statistical methods (e.g. Z-Score, Interquartile Range(IQR)) or by visualizations (e.g. boxplot) \\\n",
    "**Remove or correct outliers** depending on business context"
   ]
  },
  {
   "cell_type": "code",
   "execution_count": 37,
   "metadata": {},
   "outputs": [
    {
     "name": "stdout",
     "output_type": "stream",
     "text": [
      "2019-01-01 00:01:11\n",
      "2019-02-28 23:48:19\n"
     ]
    }
   ],
   "source": [
    "# Outlier detection for tmsp (timestamp). Must be between 01.01.2019 00:00:00 and 28.02.2019 23:59:59\n",
    "# Result: No outliers\n",
    "print(df['tmsp'].min())\n",
    "print(df['tmsp'].max())"
   ]
  },
  {
   "cell_type": "code",
   "execution_count": 38,
   "metadata": {},
   "outputs": [
    {
     "name": "stdout",
     "output_type": "stream",
     "text": [
      "['Germany' 'Austria' 'Switzerland']\n"
     ]
    }
   ],
   "source": [
    "# Outlier detection for country. Only 'Germany', 'Austria' or 'Switzerland' are valid\n",
    "# Result: No outliers\n",
    "print(df['country'].unique())"
   ]
  },
  {
   "cell_type": "code",
   "execution_count": 39,
   "metadata": {},
   "outputs": [
    {
     "name": "stdout",
     "output_type": "stream",
     "text": [
      "[0 1]\n"
     ]
    }
   ],
   "source": [
    "# Outlier detection for success. Only 0 or 1 are valid\n",
    "# Result: No outliers\n",
    "print(df['success'].unique())"
   ]
  },
  {
   "cell_type": "code",
   "execution_count": 40,
   "metadata": {},
   "outputs": [
    {
     "name": "stdout",
     "output_type": "stream",
     "text": [
      "['UK_Card' 'Simplecard' 'Moneycard' 'Goldcard']\n"
     ]
    }
   ],
   "source": [
    "# Outlier detection for PSP. Only 'UK_Card', 'Simplecard', 'Moneycard' or 'Goldcard' are valid\n",
    "# Result: No outliers\n",
    "print(df['PSP'].unique())"
   ]
  },
  {
   "cell_type": "code",
   "execution_count": 41,
   "metadata": {},
   "outputs": [
    {
     "name": "stdout",
     "output_type": "stream",
     "text": [
      "[0 1]\n"
     ]
    }
   ],
   "source": [
    "# Outlier detection for PSP. Only 0 or 1 are valid\n",
    "# Result: No outliers\n",
    "print(df['3D_secured'].unique())"
   ]
  },
  {
   "cell_type": "code",
   "execution_count": 42,
   "metadata": {},
   "outputs": [
    {
     "name": "stdout",
     "output_type": "stream",
     "text": [
      "['Visa' 'Diners' 'Master']\n"
     ]
    }
   ],
   "source": [
    "# Outlier detection for PSP. Only 'Visa', 'Diners' or 'Master' are valid\n",
    "# Result: No outliers\n",
    "print(df['card'].unique())"
   ]
  },
  {
   "cell_type": "code",
   "execution_count": 43,
   "metadata": {},
   "outputs": [
    {
     "data": {
      "image/png": "[encoded data removed]",
      "text/plain": [
       "<Figure size 500x500 with 1 Axes>"
      ]
     },
     "metadata": {},
     "output_type": "display_data"
    }
   ],
   "source": [
    "# Outlier detection for amount\n",
    "# Result: some outliers for amount detected\n",
    "plt.figure(figsize=(5, 5))\n",
    "boxplot = plt.boxplot(df['amount'], patch_artist=True)\n",
    "\n",
    "plt.title('Boxplot for Amount')\n",
    "plt.ylabel('Amount')\n",
    "\n",
    "q1 = df['amount'].quantile(0.25)\n",
    "q3 = df['amount'].quantile(0.75)\n",
    "median = df['amount'].median()\n",
    "whisker_low = q1 - 1.5 * (q3 - q1)\n",
    "whisker_high = q3 + 1.5 * (q3 - q1)\n",
    "\n",
    "# Add labels\n",
    "plt.text(1.1, q1, f'Q1: {q1:.2f}', verticalalignment='center', color='blue')\n",
    "plt.text(1.1, q3, f'Q3: {q3:.2f}', verticalalignment='center', color='blue')\n",
    "plt.text(1.1, median, f'Median: {median:.2f}', verticalalignment='center', color='red')\n",
    "plt.text(1.1, whisker_low, f'Lower Wh.: 0', verticalalignment='center', color='green')\n",
    "plt.text(1.1, whisker_high, f'Upper Wh.: {whisker_high:.2f}', verticalalignment='center', color='green')\n",
    "\n",
    "plt.show()"
   ]
  },
  {
   "cell_type": "code",
   "execution_count": 44,
   "metadata": {},
   "outputs": [
    {
     "data": {
      "text/plain": [
       "153"
      ]
     },
     "execution_count": 44,
     "metadata": {},
     "output_type": "execute_result"
    }
   ],
   "source": [
    "# 153 transactions are outliers for amount\n",
    "(df['amount'] > 473).sum()"
   ]
  },
  {
   "cell_type": "markdown",
   "metadata": {},
   "source": [
    "### Data consolidation and integration\n",
    "**Merge** of data from different sources\\\n",
    "**Reconciliation** of data for the same entity. Bring them together."
   ]
  },
  {
   "cell_type": "code",
   "execution_count": 45,
   "metadata": {},
   "outputs": [],
   "source": [
    "# Not applicable for this data"
   ]
  },
  {
   "cell_type": "markdown",
   "metadata": {},
   "source": [
    "### Duplicate handling\n",
    "**Check** for duplicated records\n",
    "**Revome** duplicated records or **aggregate** features"
   ]
  },
  {
   "cell_type": "code",
   "execution_count": 46,
   "metadata": {},
   "outputs": [
    {
     "name": "stdout",
     "output_type": "stream",
     "text": [
      "81\n"
     ]
    }
   ],
   "source": [
    "# Check for duplicates\n",
    "# Result: 81 duplicated records\n",
    "grouped = df.groupby([\"tmsp\", \"country\", \"amount\", \"success\", \"PSP\", \"3D_secured\", \"card\"]).size()\n",
    "print(grouped[grouped > 1].count())"
   ]
  },
  {
   "cell_type": "code",
   "execution_count": 47,
   "metadata": {},
   "outputs": [],
   "source": [
    "# Remove duplicates\n",
    "df = df.drop_duplicates()\n",
    "df = df.reset_index(drop=True)"
   ]
  },
  {
   "cell_type": "markdown",
   "metadata": {},
   "source": [
    "### Save cleaned data"
   ]
  },
  {
   "cell_type": "code",
   "execution_count": 48,
   "metadata": {},
   "outputs": [],
   "source": [
    "# Save as CSV for better versioning in Git\n",
    "df.to_csv(data_path + '3-1_psp-data_cleaned.csv')"
   ]
  }
 ],
 "metadata": {
  "kernelspec": {
   "display_name": "Python 3",
   "language": "python",
   "name": "python3"
  },
  "language_info": {
   "codemirror_mode": {
    "name": "ipython",
    "version": 3
   },
   "file_extension": ".py",
   "mimetype": "text/x-python",
   "name": "python",
   "nbconvert_exporter": "python",
   "pygments_lexer": "ipython3",
   "version": "3.12.3"
  }
 },
 "nbformat": 4,
 "nbformat_minor": 2
}
